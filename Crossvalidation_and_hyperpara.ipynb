{
  "nbformat": 4,
  "nbformat_minor": 0,
  "metadata": {
    "colab": {
      "provenance": [],
      "authorship_tag": "ABX9TyNk/+SBkzsOUjAW2BFthLLV",
      "include_colab_link": true
    },
    "kernelspec": {
      "name": "python3",
      "display_name": "Python 3"
    },
    "language_info": {
      "name": "python"
    }
  },
  "cells": [
    {
      "cell_type": "markdown",
      "metadata": {
        "id": "view-in-github",
        "colab_type": "text"
      },
      "source": [
        "<a href=\"https://colab.research.google.com/github/shairal1/MI/blob/main/Crossvalidation_and_hyperpara.ipynb\" target=\"_parent\"><img src=\"https://colab.research.google.com/assets/colab-badge.svg\" alt=\"Open In Colab\"/></a>"
      ]
    },
    {
      "cell_type": "code",
      "source": [
        "from sklearn.datasets import make_classification\n",
        "from sklearn.model_selection import train_test_split\n",
        "\n",
        "# Create a toy dataset\n",
        "X, y = make_classification(n_samples=100, n_features=20, n_informative=10, n_redundant=5, random_state=42)\n",
        "\n",
        "# Split the dataset into training and testing sets\n",
        "X_train, X_test, y_train, y_test = train_test_split(X, y, test_size=0.2, random_state=42)\n",
        "\n",
        "# Display the shapes of the sets\n",
        "print(\"X_train shape:\", X_train.shape)\n",
        "print(\"X_test shape:\", X_test.shape)\n",
        "print(\"y_train shape:\", y_train.shape)\n",
        "print(\"y_test shape:\", y_test.shape)"
      ],
      "metadata": {
        "colab": {
          "base_uri": "https://localhost:8080/"
        },
        "id": "2To-BZM7ZvSr",
        "outputId": "589d2070-e1ce-4ef5-ec9e-b95bba8a3d38"
      },
      "execution_count": 2,
      "outputs": [
        {
          "output_type": "stream",
          "name": "stdout",
          "text": [
            "X_train shape: (800, 20)\n",
            "X_test shape: (200, 20)\n",
            "y_train shape: (800,)\n",
            "y_test shape: (200,)\n"
          ]
        }
      ]
    },
    {
      "cell_type": "code",
      "source": [
        "X"
      ],
      "metadata": {
        "colab": {
          "base_uri": "https://localhost:8080/"
        },
        "id": "6U8m9XVyasbC",
        "outputId": "c63be7ee-f31d-4faa-b579-d0fa14db849b"
      },
      "execution_count": 5,
      "outputs": [
        {
          "output_type": "execute_result",
          "data": {
            "text/plain": [
              "array([[ 1.47084808, -0.36045003, -0.59160179, ...,  1.40820843,\n",
              "        -1.83804066, -0.83314152],\n",
              "       [ 4.5133691 , -2.22710304, -1.14074742, ..., -0.08179955,\n",
              "        -9.32536185,  0.57438635],\n",
              "       [-2.35564342,  2.21860146, -1.60326925, ..., -1.74276094,\n",
              "        -0.27157946, -0.3592853 ],\n",
              "       ...,\n",
              "       [-0.01533475,  1.88350698,  3.22168153, ..., -0.78956596,\n",
              "         0.2824801 ,  0.82585267],\n",
              "       [ 1.28507132,  1.61850818, -1.7006783 , ...,  1.66049991,\n",
              "        -2.1921162 ,  0.90687053],\n",
              "       [-1.27614831,  0.9881259 , -0.71693242, ...,  1.39628727,\n",
              "         3.41268454,  0.72687052]])"
            ]
          },
          "metadata": {},
          "execution_count": 5
        }
      ]
    },
    {
      "cell_type": "code",
      "source": [
        "from sklearn.model_selection import cross_val_score\n",
        "from sklearn.model_selection import KFold\n",
        "from sklearn.ensemble import RandomForestClassifier\n",
        "\n",
        "param_grid = {'n_estimators': [50, 100, 200],\n",
        "              'max_depth': [None, 10, 20]}\n",
        "\n",
        "# Create a RandomForestClassifier (or any other model)\n",
        "model = RandomForestClassifier()\n",
        "\n",
        "# Create a KFold cross-validation object\n",
        "kf = KFold(n_splits=5, shuffle=True, random_state=42)\n",
        "\n",
        "best_score = 0\n",
        "best_params = None\n",
        "\n",
        "# Loop through hyperparameter combinations\n",
        "for n_estimators in param_grid['n_estimators']:\n",
        "    for max_depth in param_grid['max_depth']:\n",
        "        # Set hyperparameters\n",
        "        model.set_params(n_estimators=n_estimators, max_depth=max_depth)\n",
        "\n",
        "        # Perform cross-validation and calculate mean accuracy\n",
        "        scores = cross_val_score(model, X_train, y_train, cv=kf)\n",
        "        mean_score = scores.mean()\n",
        "        print('current_n_estimators ',n_estimators,'maxdepth',max_depth)\n",
        "        # Check if this set of hyperparameters is the best so far\n",
        "        if mean_score > best_score:\n",
        "            best_score = mean_score\n",
        "            best_params = {'n_estimators': n_estimators, 'max_depth': max_depth}\n",
        "\n",
        "# Display the best hyperparameters\n",
        "print(\"Best Hyperparameters:\", best_params)\n",
        "print(\"Best Cross-Validation Score:\", best_score)"
      ],
      "metadata": {
        "colab": {
          "base_uri": "https://localhost:8080/"
        },
        "id": "iYF1HCeOaNkC",
        "outputId": "1866467a-8b55-4f1f-f4b9-c683765da27b"
      },
      "execution_count": 6,
      "outputs": [
        {
          "output_type": "stream",
          "name": "stdout",
          "text": [
            "current_n_estimators  50 maxdepth None\n",
            "current_n_estimators  50 maxdepth 10\n",
            "current_n_estimators  50 maxdepth 20\n",
            "current_n_estimators  100 maxdepth None\n",
            "current_n_estimators  100 maxdepth 10\n",
            "current_n_estimators  100 maxdepth 20\n",
            "current_n_estimators  200 maxdepth None\n",
            "current_n_estimators  200 maxdepth 10\n",
            "current_n_estimators  200 maxdepth 20\n",
            "Best Hyperparameters: {'n_estimators': 50, 'max_depth': 10}\n",
            "Best Cross-Validation Score: 0.9337500000000001\n"
          ]
        }
      ]
    }
  ]
}